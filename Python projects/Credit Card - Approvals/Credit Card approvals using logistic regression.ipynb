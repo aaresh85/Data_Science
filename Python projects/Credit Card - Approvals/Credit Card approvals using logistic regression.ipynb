{
 "cells": [
  {
   "cell_type": "markdown",
   "metadata": {},
   "source": [
    "# Approvals to Credit Card "
   ]
  },
  {
   "cell_type": "markdown",
   "metadata": {},
   "source": [
    "###### May 11 2019"
   ]
  },
  {
   "cell_type": "code",
   "execution_count": 39,
   "metadata": {},
   "outputs": [
    {
     "name": "stdout",
     "output_type": "stream",
     "text": [
      "  0      1      2  3  4  5  6     7  8  9   10 11 12     13   14 15\n",
      "0  b  30.83  0.000  u  g  w  v  1.25  t  t   1  f  g  00202    0  +\n",
      "1  a  58.67  4.460  u  g  q  h  3.04  t  t   6  f  g  00043  560  +\n",
      "2  a  24.50  0.500  u  g  q  h  1.50  t  f   0  f  g  00280  824  +\n",
      "3  b  27.83  1.540  u  g  w  v  3.75  t  t   5  t  g  00100    3  +\n",
      "4  b  20.17  5.625  u  g  w  v  1.71  t  f   0  f  s  00120    0  +\n",
      "\n",
      "\n",
      "    0      1       2  3  4   5   6      7  8  9   10 11 12     13   14 15\n",
      "670  b  47.17   5.835  u  g   w   v  5.500  f  f   0  f  g  00465  150  -\n",
      "671  b  25.83  12.835  u  g  cc   v  0.500  f  f   0  f  g  00000    2  -\n",
      "672  a  50.25   0.835  u  g  aa   v  0.500  f  f   0  t  g  00240  117  -\n",
      "673  ?  29.50   2.000  y  p   e   h  2.000  f  f   0  f  g  00256   17  -\n",
      "674  a  37.33   2.500  u  g   i   h  0.210  f  f   0  f  g  00260  246  -\n",
      "675  a  41.58   1.040  u  g  aa   v  0.665  f  f   0  f  g  00240  237  -\n",
      "676  a  30.58  10.665  u  g   q   h  0.085  f  t  12  t  g  00129    3  -\n",
      "677  b  19.42   7.250  u  g   m   v  0.040  f  t   1  f  g  00100    1  -\n",
      "678  a  17.92  10.210  u  g  ff  ff  0.000  f  f   0  f  g  00000   50  -\n",
      "679  a  20.08   1.250  u  g   c   v  0.000  f  f   0  f  g  00000    0  -\n",
      "680  b  19.50   0.290  u  g   k   v  0.290  f  f   0  f  g  00280  364  -\n",
      "681  b  27.83   1.000  y  p   d   h  3.000  f  f   0  f  g  00176  537  -\n",
      "682  b  17.08   3.290  u  g   i   v  0.335  f  f   0  t  g  00140    2  -\n",
      "683  b  36.42   0.750  y  p   d   v  0.585  f  f   0  f  g  00240    3  -\n",
      "684  b  40.58   3.290  u  g   m   v  3.500  f  f   0  t  s  00400    0  -\n",
      "685  b  21.08  10.085  y  p   e   h  1.250  f  f   0  f  g  00260    0  -\n",
      "686  a  22.67   0.750  u  g   c   v  2.000  f  t   2  t  g  00200  394  -\n",
      "687  a  25.25  13.500  y  p  ff  ff  2.000  f  t   1  t  g  00200    1  -\n",
      "688  b  17.92   0.205  u  g  aa   v  0.040  f  f   0  f  g  00280  750  -\n",
      "689  b  35.00   3.375  u  g   c   h  8.290  f  f   0  t  g  00000    0  -\n"
     ]
    }
   ],
   "source": [
    "# Import pandas libraries\n",
    "import pandas as pd\n",
    "import numpy as np\n",
    "\n",
    "# Load datasets\n",
    "cc_data = pd.read_csv(\"E:/Data Scientist/Datasets/credit_card.csv\", sep = \",\",header = None)\n",
    "\n",
    "# explore the dataset\n",
    "print(cc_data.head())\n",
    "print(\"\\n\")\n",
    "print(cc_data.tail(20))"
   ]
  },
  {
   "cell_type": "code",
   "execution_count": 40,
   "metadata": {},
   "outputs": [
    {
     "name": "stdout",
     "output_type": "stream",
     "text": [
      "               2           7          10             14\n",
      "count  690.000000  690.000000  690.00000     690.000000\n",
      "mean     4.758725    2.223406    2.40000    1017.385507\n",
      "std      4.978163    3.346513    4.86294    5210.102598\n",
      "min      0.000000    0.000000    0.00000       0.000000\n",
      "25%      1.000000    0.165000    0.00000       0.000000\n",
      "50%      2.750000    1.000000    0.00000       5.000000\n",
      "75%      7.207500    2.625000    3.00000     395.500000\n",
      "max     28.000000   28.500000   67.00000  100000.000000\n",
      "\n",
      "\n",
      "<class 'pandas.core.frame.DataFrame'>\n",
      "RangeIndex: 690 entries, 0 to 689\n",
      "Data columns (total 16 columns):\n",
      "0     690 non-null object\n",
      "1     690 non-null object\n",
      "2     690 non-null float64\n",
      "3     690 non-null object\n",
      "4     690 non-null object\n",
      "5     690 non-null object\n",
      "6     690 non-null object\n",
      "7     690 non-null float64\n",
      "8     690 non-null object\n",
      "9     690 non-null object\n",
      "10    690 non-null int64\n",
      "11    690 non-null object\n",
      "12    690 non-null object\n",
      "13    690 non-null object\n",
      "14    690 non-null int64\n",
      "15    690 non-null object\n",
      "dtypes: float64(2), int64(2), object(12)\n",
      "memory usage: 86.3+ KB\n",
      "None\n"
     ]
    }
   ],
   "source": [
    "# Inspecting the dataset and exploring the dataset for the first statistic info\n",
    "\n",
    "print(cc_data .describe())\n",
    "print(\"\\n\")\n",
    "print(cc_data.info())"
   ]
  },
  {
   "cell_type": "code",
   "execution_count": 42,
   "metadata": {},
   "outputs": [
    {
     "name": "stdout",
     "output_type": "stream",
     "text": [
      "67\n",
      "\n",
      "\n",
      "      0      1       2  3  4   5   6      7  8  9   10 11 12     13   14 15\n",
      "640    b  34.17   2.750  u  g   i  bb  2.500  f  f   0  t  g  00232  200  -\n",
      "641  NaN  33.17   2.250  y  p  cc   v  3.500  f  f   0  t  g  00200  141  -\n",
      "642    b  31.58   0.750  y  p  aa   v  3.500  f  f   0  t  g  00320    0  -\n",
      "643    a  52.50   7.000  u  g  aa   h  3.000  f  f   0  f  g  00000    0  -\n",
      "644    b  36.17   0.420  y  p   w   v  0.290  f  f   0  t  g  00309    2  -\n",
      "645    b  37.33   2.665  u  g  cc   v  0.165  f  f   0  t  g  00000  501  -\n",
      "646    a  20.83   8.500  u  g   c   v  0.165  f  f   0  f  g  00000  351  -\n",
      "647    b  24.08   9.000  u  g  aa   v  0.250  f  f   0  t  g  00000    0  -\n",
      "648    b  25.58   0.335  u  g   k   h  3.500  f  f   0  t  g  00340    0  -\n",
      "649    a  35.17   3.750  u  g  ff  ff  0.000  f  t   6  f  g  00000  200  -\n",
      "650    b  48.08   3.750  u  g   i  bb  1.000  f  f   0  f  g  00100    2  -\n",
      "651    a  15.83   7.625  u  g   q   v  0.125  f  t   1  t  g  00000  160  -\n",
      "652    a  22.50   0.415  u  g   i   v  0.335  f  f   0  t  s  00144    0  -\n",
      "653    b  21.50  11.500  u  g   i   v  0.500  t  f   0  t  g  00100   68  -\n",
      "654    a  23.58   0.830  u  g   q   v  0.415  f  t   1  t  g  00200   11  -\n",
      "655    a  21.08   5.000  y  p  ff  ff  0.000  f  f   0  f  g  00000    0  -\n",
      "656    b  25.67   3.250  u  g   c   h  2.290  f  t   1  t  g  00416   21  -\n",
      "657    a  38.92   1.665  u  g  aa   v  0.250  f  f   0  f  g  00000  390  -\n",
      "658    a  15.75   0.375  u  g   c   v  1.000  f  f   0  f  g  00120   18  -\n",
      "659    a  28.58   3.750  u  g   c   v  0.250  f  t   1  t  g  00040  154  -\n",
      "660    b  22.25   9.000  u  g  aa   v  0.085  f  f   0  f  g  00000    0  -\n",
      "661    b  29.83   3.500  u  g   c   v  0.165  f  f   0  f  g  00216    0  -\n",
      "662    a  23.50   1.500  u  g   w   v  0.875  f  f   0  t  g  00160    0  -\n",
      "663    b  32.08   4.000  y  p  cc   v  1.500  f  f   0  t  g  00120    0  -\n",
      "664    b  31.08   1.500  y  p   w   v  0.040  f  f   0  f  s  00160    0  -\n",
      "665    b  31.83   0.040  y  p   m   v  0.040  f  f   0  f  g  00000    0  -\n",
      "666    a  21.75  11.750  u  g   c   v  0.250  f  f   0  t  g  00180    0  -\n",
      "667    a  17.92   0.540  u  g   c   v  1.750  f  t   1  t  g  00080    5  -\n",
      "668    b  30.33   0.500  u  g   d   h  0.085  f  f   0  t  s  00252    0  -\n",
      "669    b  51.83   2.040  y  p  ff  ff  1.500  f  f   0  f  g  00120    1  -\n",
      "670    b  47.17   5.835  u  g   w   v  5.500  f  f   0  f  g  00465  150  -\n",
      "671    b  25.83  12.835  u  g  cc   v  0.500  f  f   0  f  g  00000    2  -\n",
      "672    a  50.25   0.835  u  g  aa   v  0.500  f  f   0  t  g  00240  117  -\n",
      "673  NaN  29.50   2.000  y  p   e   h  2.000  f  f   0  f  g  00256   17  -\n",
      "674    a  37.33   2.500  u  g   i   h  0.210  f  f   0  f  g  00260  246  -\n",
      "675    a  41.58   1.040  u  g  aa   v  0.665  f  f   0  f  g  00240  237  -\n",
      "676    a  30.58  10.665  u  g   q   h  0.085  f  t  12  t  g  00129    3  -\n",
      "677    b  19.42   7.250  u  g   m   v  0.040  f  t   1  f  g  00100    1  -\n",
      "678    a  17.92  10.210  u  g  ff  ff  0.000  f  f   0  f  g  00000   50  -\n",
      "679    a  20.08   1.250  u  g   c   v  0.000  f  f   0  f  g  00000    0  -\n",
      "680    b  19.50   0.290  u  g   k   v  0.290  f  f   0  f  g  00280  364  -\n",
      "681    b  27.83   1.000  y  p   d   h  3.000  f  f   0  f  g  00176  537  -\n",
      "682    b  17.08   3.290  u  g   i   v  0.335  f  f   0  t  g  00140    2  -\n",
      "683    b  36.42   0.750  y  p   d   v  0.585  f  f   0  f  g  00240    3  -\n",
      "684    b  40.58   3.290  u  g   m   v  3.500  f  f   0  t  s  00400    0  -\n",
      "685    b  21.08  10.085  y  p   e   h  1.250  f  f   0  f  g  00260    0  -\n",
      "686    a  22.67   0.750  u  g   c   v  2.000  f  t   2  t  g  00200  394  -\n",
      "687    a  25.25  13.500  y  p  ff  ff  2.000  f  t   1  t  g  00200    1  -\n",
      "688    b  17.92   0.205  u  g  aa   v  0.040  f  f   0  f  g  00280  750  -\n",
      "689    b  35.00   3.375  u  g   c   h  8.290  f  f   0  t  g  00000    0  -\n"
     ]
    }
   ],
   "source": [
    "# Inspect the dataset for the missing values\n",
    "print(cc_data.isnull().values.sum())\n",
    "print(\"\\n\")\n",
    "# import numpy libraries\n",
    "import numpy as np\n",
    "\n",
    "# replace \"?\" with \"NaN\"\n",
    "cc_data = cc_data.replace(\"?\",np.NaN)\n",
    "\n",
    "# Inspecting the dataset again\n",
    "print(cc_data.tail(50))"
   ]
  },
  {
   "cell_type": "code",
   "execution_count": 43,
   "metadata": {},
   "outputs": [
    {
     "name": "stdout",
     "output_type": "stream",
     "text": [
      "    0      1       2  3  4   5   6      7  8  9   10 11 12     13   14 15\n",
      "670  b  47.17   5.835  u  g   w   v  5.500  f  f   0  f  g  00465  150  -\n",
      "671  b  25.83  12.835  u  g  cc   v  0.500  f  f   0  f  g  00000    2  -\n",
      "672  a  50.25   0.835  u  g  aa   v  0.500  f  f   0  t  g  00240  117  -\n",
      "673  b  29.50   2.000  y  p   e   h  2.000  f  f   0  f  g  00256   17  -\n",
      "674  a  37.33   2.500  u  g   i   h  0.210  f  f   0  f  g  00260  246  -\n",
      "675  a  41.58   1.040  u  g  aa   v  0.665  f  f   0  f  g  00240  237  -\n",
      "676  a  30.58  10.665  u  g   q   h  0.085  f  t  12  t  g  00129    3  -\n",
      "677  b  19.42   7.250  u  g   m   v  0.040  f  t   1  f  g  00100    1  -\n",
      "678  a  17.92  10.210  u  g  ff  ff  0.000  f  f   0  f  g  00000   50  -\n",
      "679  a  20.08   1.250  u  g   c   v  0.000  f  f   0  f  g  00000    0  -\n",
      "680  b  19.50   0.290  u  g   k   v  0.290  f  f   0  f  g  00280  364  -\n",
      "681  b  27.83   1.000  y  p   d   h  3.000  f  f   0  f  g  00176  537  -\n",
      "682  b  17.08   3.290  u  g   i   v  0.335  f  f   0  t  g  00140    2  -\n",
      "683  b  36.42   0.750  y  p   d   v  0.585  f  f   0  f  g  00240    3  -\n",
      "684  b  40.58   3.290  u  g   m   v  3.500  f  f   0  t  s  00400    0  -\n",
      "685  b  21.08  10.085  y  p   e   h  1.250  f  f   0  f  g  00260    0  -\n",
      "686  a  22.67   0.750  u  g   c   v  2.000  f  t   2  t  g  00200  394  -\n",
      "687  a  25.25  13.500  y  p  ff  ff  2.000  f  t   1  t  g  00200    1  -\n",
      "688  b  17.92   0.205  u  g  aa   v  0.040  f  f   0  f  g  00280  750  -\n",
      "689  b  35.00   3.375  u  g   c   h  8.290  f  f   0  t  g  00000    0  -\n",
      "\n",
      "\n",
      "Missing Values: 0\n",
      "<class 'pandas.core.frame.DataFrame'>\n",
      "RangeIndex: 690 entries, 0 to 689\n",
      "Data columns (total 16 columns):\n",
      "0     690 non-null object\n",
      "1     690 non-null object\n",
      "2     690 non-null float64\n",
      "3     690 non-null object\n",
      "4     690 non-null object\n",
      "5     690 non-null object\n",
      "6     690 non-null object\n",
      "7     690 non-null float64\n",
      "8     690 non-null object\n",
      "9     690 non-null object\n",
      "10    690 non-null int64\n",
      "11    690 non-null object\n",
      "12    690 non-null object\n",
      "13    690 non-null object\n",
      "14    690 non-null int64\n",
      "15    690 non-null object\n",
      "dtypes: float64(2), int64(2), object(12)\n",
      "memory usage: 86.3+ KB\n"
     ]
    }
   ],
   "source": [
    "# As we set the numeric columns null values with mean and now we fill categorical columns with the mode values\n",
    "# This method is called impute the columns with most frequent value\n",
    "\n",
    "for col in cc_data.columns:\n",
    "    if cc_data[col].dtype == 'object':\n",
    "        cc_data = cc_data.fillna(cc_data[col].mode())\n",
    "    else:\n",
    "        cc_data = cc_data.fillna(cc_data[col].mean())\n",
    "        \n",
    "# Now check with the dataset\n",
    "print(cc_data.tail(20))\n",
    "\n",
    "# Check with the NaN values in the dataset\n",
    "print(\"\\n\")\n",
    "print(\"Missing Values:\",cc_data.isnull().values.sum())\n",
    "cc_data.info()\n",
    "    "
   ]
  },
  {
   "cell_type": "code",
   "execution_count": 44,
   "metadata": {},
   "outputs": [],
   "source": [
    "# From basic statistics and info method we see there categorical columns which are mentioned as object \n",
    "# Inorder to apply Logistic regression we need all the columns in numeric so we convert the columns to numeric\n",
    "\n",
    "from sklearn.preprocessing import LabelEncoder\n",
    "label = LabelEncoder()\n",
    "\n",
    "for col in cc_data.columns:\n",
    "    if cc_data[col].dtype == 'object':\n",
    "        cc_data[col] = label.fit_transform(cc_data[col].astype(str))"
   ]
  },
  {
   "cell_type": "code",
   "execution_count": 50,
   "metadata": {},
   "outputs": [
    {
     "name": "stdout",
     "output_type": "stream",
     "text": [
      "     0    1       2   3   4   5   6       7   8   9   10  12     14  15\n",
      "0     1  156   0.000   2   1  13   8   1.250   1   1   1   0      0   0\n",
      "1     0  329   4.460   2   1  11   4   3.040   1   1   6   0    560   0\n",
      "2     0   89   0.500   2   1  11   4   1.500   1   0   0   0    824   0\n",
      "3     1  125   1.540   2   1  13   8   3.750   1   1   5   0      3   0\n",
      "4     1   43   5.625   2   1  13   8   1.710   1   0   0   2      0   0\n",
      "5     1  168   4.000   2   1  10   8   2.500   1   0   0   0      0   0\n",
      "6     1  179   1.040   2   1  12   4   6.500   1   0   0   0  31285   0\n",
      "7     0   74  11.585   2   1   3   8   0.040   1   0   0   0   1349   0\n",
      "8     1  311   0.500   3   3   9   4   3.960   1   0   0   0    314   0\n",
      "9     1  256   4.915   3   3  13   8   3.165   1   0   0   0   1442   0\n",
      "10    1   64   0.830   2   1   2   4   2.165   0   0   0   0      0   0\n",
      "11    1  145   1.835   2   1   2   4   4.335   1   0   0   0    200   0\n",
      "12    0  220   6.000   2   1   9   8   1.000   1   0   0   0      0   0\n",
      "13    1  283   6.040   2   1   9   8   0.040   0   0   0   0   2690   0\n",
      "14    0  271  10.500   2   1  11   8   5.000   1   1   7   0      0   0\n",
      "15    1  211   4.415   3   3   9   8   0.250   1   1  10   0      0   0\n",
      "16    1  129   0.875   2   1  10   8   0.960   1   1   3   0      0   0\n",
      "17    0   78   5.875   2   1  11   8   3.170   1   1  10   0    245   0\n",
      "18    1   61   0.250   2   1   4   4   0.665   1   0   0   0      0   0\n",
      "19    0   34   8.585   2   1   3   4   0.750   1   1   7   0      0   0\n",
      "20    1   94  11.250   2   1   2   8   2.500   1   1  17   0   1208   0\n",
      "21    1   78   1.000   2   1   2   8   0.835   1   0   0   2      0   0\n",
      "22    0  281   8.000   2   1   2   8   7.875   1   1   6   0   1260   0\n",
      "23    0  121  14.500   2   1  14   4   3.085   1   1   1   0     11   0\n",
      "24    0  245   6.500   2   1  11   8   0.500   1   1   3   0      0   0\n",
      "25    0    3   0.585   2   1   2   4   1.500   1   1   2   0      0   0\n",
      "26    0  275  13.000   2   1   7   1   5.165   1   1   9   0      0   0\n",
      "27    1  319  18.500   2   1   4   1  15.000   1   1  17   0      0   0\n",
      "28    1  323   8.500   2   1   5   4   7.000   1   1   3   0      0   0\n",
      "29    1  253   1.040   2   1  13   8   5.000   1   1   6   0  10000   0\n",
      "..   ..  ...     ...  ..  ..  ..  ..     ...  ..  ..  ..  ..    ...  ..\n",
      "660   1   66   9.000   2   1   1   8   0.085   0   0   0   0      0   1\n",
      "661   1  144   3.500   2   1   2   8   0.165   0   0   0   0      0   1\n",
      "662   0   81   1.500   2   1  13   8   0.875   0   0   0   0      0   1\n",
      "663   1  168   4.000   3   3   3   8   1.500   0   0   0   0      0   1\n",
      "664   1  158   1.500   3   3  13   8   0.040   0   0   0   2      0   1\n",
      "665   1  165   0.040   3   3  10   8   0.040   0   0   0   0      0   1\n",
      "666   0   60  11.750   2   1   2   8   0.250   0   0   0   0      0   1\n",
      "667   0   20   0.540   2   1   2   8   1.750   0   1   1   0      5   1\n",
      "668   1  150   0.500   2   1   4   4   0.085   0   0   0   2      0   1\n",
      "669   1  301   2.040   3   3   6   3   1.500   0   0   0   0      1   1\n",
      "670   1  276   5.835   2   1  13   8   5.500   0   0   0   0    150   1\n",
      "671   1  104  12.835   2   1   3   8   0.500   0   0   0   0      2   1\n",
      "672   0  296   0.835   2   1   1   8   0.500   0   0   0   0    117   1\n",
      "673   1  140   2.000   3   3   5   4   2.000   0   0   0   0     17   1\n",
      "674   0  214   2.500   2   1   7   4   0.210   0   0   0   0    246   1\n",
      "675   0  249   1.040   2   1   1   8   0.665   0   0   0   0    237   1\n",
      "676   0  153  10.665   2   1  11   4   0.085   0   1  12   0      3   1\n",
      "677   1   36   7.250   2   1  10   8   0.040   0   1   1   0      1   1\n",
      "678   0   20  10.210   2   1   6   3   0.000   0   0   0   0     50   1\n",
      "679   0   42   1.250   2   1   2   8   0.000   0   0   0   0      0   1\n",
      "680   1   37   0.290   2   1   9   8   0.290   0   0   0   0    364   1\n",
      "681   1  125   1.000   3   3   4   4   3.000   0   0   0   0    537   1\n",
      "682   1   12   3.290   2   1   7   8   0.335   0   0   0   0      2   1\n",
      "683   1  208   0.750   3   3   4   8   0.585   0   0   0   0      3   1\n",
      "684   1  241   3.290   2   1  10   8   3.500   0   0   0   2      0   1\n",
      "685   1   52  10.085   3   3   5   4   1.250   0   0   0   0      0   1\n",
      "686   0   71   0.750   2   1   2   8   2.000   0   1   2   0    394   1\n",
      "687   0   97  13.500   3   3   6   3   2.000   0   1   1   0      1   1\n",
      "688   1   20   0.205   2   1   1   8   0.040   0   0   0   0    750   1\n",
      "689   1  197   3.375   2   1   2   4   8.290   0   0   0   0      0   1\n",
      "\n",
      "[690 rows x 14 columns]\n",
      "<class 'pandas.core.frame.DataFrame'>\n",
      "RangeIndex: 690 entries, 0 to 689\n",
      "Data columns (total 14 columns):\n",
      "0     690 non-null int32\n",
      "1     690 non-null int32\n",
      "2     690 non-null float64\n",
      "3     690 non-null int32\n",
      "4     690 non-null int32\n",
      "5     690 non-null int32\n",
      "6     690 non-null int32\n",
      "7     690 non-null float64\n",
      "8     690 non-null int32\n",
      "9     690 non-null int32\n",
      "10    690 non-null int64\n",
      "12    690 non-null int32\n",
      "14    690 non-null int64\n",
      "15    690 non-null int32\n",
      "dtypes: float64(2), int32(10), int64(2)\n",
      "memory usage: 48.6 KB\n"
     ]
    }
   ],
   "source": [
    "print(cc_data)\n",
    "cc_data.info()"
   ]
  },
  {
   "cell_type": "code",
   "execution_count": 53,
   "metadata": {},
   "outputs": [
    {
     "ename": "AttributeError",
     "evalue": "'numpy.ndarray' object has no attribute 'drop'",
     "output_type": "error",
     "traceback": [
      "\u001b[1;31m---------------------------------------------------------------------------\u001b[0m",
      "\u001b[1;31mAttributeError\u001b[0m                            Traceback (most recent call last)",
      "\u001b[1;32m<ipython-input-53-fb41b5d25a6e>\u001b[0m in \u001b[0;36m<module>\u001b[1;34m\u001b[0m\n\u001b[0;32m      2\u001b[0m \u001b[1;32mfrom\u001b[0m \u001b[0msklearn\u001b[0m\u001b[1;33m.\u001b[0m\u001b[0mmodel_selection\u001b[0m \u001b[1;32mimport\u001b[0m \u001b[0mtrain_test_split\u001b[0m\u001b[1;33m\u001b[0m\u001b[0m\n\u001b[0;32m      3\u001b[0m \u001b[1;31m# Drop columns 11 and 13\u001b[0m\u001b[1;33m\u001b[0m\u001b[1;33m\u001b[0m\u001b[0m\n\u001b[1;32m----> 4\u001b[1;33m \u001b[0mcc_data\u001b[0m \u001b[1;33m=\u001b[0m \u001b[0mcc_data\u001b[0m\u001b[1;33m.\u001b[0m\u001b[0mdrop\u001b[0m\u001b[1;33m(\u001b[0m\u001b[0mcc_data\u001b[0m\u001b[1;33m.\u001b[0m\u001b[0miloc\u001b[0m\u001b[1;33m[\u001b[0m\u001b[1;36m11\u001b[0m\u001b[1;33m,\u001b[0m\u001b[1;36m13\u001b[0m\u001b[1;33m]\u001b[0m\u001b[1;33m,\u001b[0m\u001b[0maxis\u001b[0m\u001b[1;33m=\u001b[0m\u001b[1;36m1\u001b[0m\u001b[1;33m)\u001b[0m\u001b[1;33m\u001b[0m\u001b[0m\n\u001b[0m\u001b[0;32m      5\u001b[0m \u001b[1;31m# convert the dataframe to Numpy array\u001b[0m\u001b[1;33m\u001b[0m\u001b[1;33m\u001b[0m\u001b[0m\n\u001b[0;32m      6\u001b[0m \u001b[0mcc_data\u001b[0m \u001b[1;33m=\u001b[0m \u001b[0mcc_data\u001b[0m\u001b[1;33m.\u001b[0m\u001b[0mvalues\u001b[0m\u001b[1;33m\u001b[0m\u001b[0m\n",
      "\u001b[1;31mAttributeError\u001b[0m: 'numpy.ndarray' object has no attribute 'drop'"
     ]
    }
   ],
   "source": [
    "# Now split the dataset into training set and testing set using sklearn\n",
    "from sklearn.model_selection import train_test_split\n",
    "# Drop columns 11 and 13\n",
    "cc_data = cc_data.drop(cc_data.iloc[11,13],axis=1)\n",
    "# convert the dataframe to Numpy array\n",
    "cc_data = cc_data.values\n",
    "print(cc_data)\n",
    "# seperate the variable into input features and output features here 13 column is our output whether credit_Card is approved or not\n",
    "X,y = cc_data[:,0:13], cc_data[:,-1]\n",
    "# Spliting the X,y dataset according to the train and test\n",
    "X_train, X_test, y_train, y_test = train_test_split(X,y,test_size = 0.33, random_state = 42)"
   ]
  },
  {
   "cell_type": "code",
   "execution_count": 57,
   "metadata": {},
   "outputs": [],
   "source": [
    "# Scaling the data according to the data\n",
    "from sklearn.preprocessing import MinMaxScaler\n",
    "\n",
    "# Initiate the method\n",
    "scale = MinMaxScaler()\n",
    "\n",
    "X_train_scale = scale.fit_transform(X_train)\n",
    "X_test_scale = scale.fit_transform(X_test)"
   ]
  },
  {
   "cell_type": "code",
   "execution_count": 59,
   "metadata": {},
   "outputs": [
    {
     "name": "stderr",
     "output_type": "stream",
     "text": [
      "c:\\users\\gudis\\appdata\\local\\programs\\python\\python36\\lib\\site-packages\\sklearn\\linear_model\\logistic.py:433: FutureWarning: Default solver will be changed to 'lbfgs' in 0.22. Specify a solver to silence this warning.\n",
      "  FutureWarning)\n"
     ]
    },
    {
     "data": {
      "text/plain": [
       "LogisticRegression(C=1.0, class_weight=None, dual=False, fit_intercept=True,\n",
       "          intercept_scaling=1, max_iter=100, multi_class='warn',\n",
       "          n_jobs=None, penalty='l2', random_state=None, solver='warn',\n",
       "          tol=0.0001, verbose=0, warm_start=False)"
      ]
     },
     "execution_count": 59,
     "metadata": {},
     "output_type": "execute_result"
    }
   ],
   "source": [
    "# Now fitting the logistic regression to the train set\n",
    "# Import Logistic Regression\n",
    "from sklearn.linear_model import LogisticRegression\n",
    "# initiate the method\n",
    "logistic = LogisticRegression()\n",
    "# Fit the logistic to the data\n",
    "logistic.fit(X_train_scale,y_train)"
   ]
  },
  {
   "cell_type": "code",
   "execution_count": 62,
   "metadata": {},
   "outputs": [
    {
     "name": "stdout",
     "output_type": "stream",
     "text": [
      "Accuracy of the model: 0.842105263158\n"
     ]
    },
    {
     "data": {
      "text/plain": [
       "array([[ 92,  25],\n",
       "       [ 11, 100]], dtype=int64)"
      ]
     },
     "execution_count": 62,
     "metadata": {},
     "output_type": "execute_result"
    }
   ],
   "source": [
    "# Now we have fitted the model and will predict the model for the test data and check the performance using confusion matrix\n",
    "from sklearn.metrics import confusion_matrix\n",
    "\n",
    "y_pred = logistic.predict(X_test_scale)\n",
    "# getting the accuracy of the log reg scale and print it\n",
    "print(\"Accuracy of the model:\", logistic.score(X_test_scale,y_test))\n",
    "confusion_matrix(y_pred,y_test)"
   ]
  },
  {
   "cell_type": "code",
   "execution_count": 63,
   "metadata": {},
   "outputs": [],
   "source": [
    "# Grid Search and making the model fit better\n",
    "from sklearn.model_selection import GridSearchCV\n",
    "\n",
    "tol = [0.01,0.001,0.0001]\n",
    "max_iter=[100,150,200]\n",
    "param_grid = dict(tol=tol,max_iter = max_iter)"
   ]
  },
  {
   "cell_type": "code",
   "execution_count": 66,
   "metadata": {},
   "outputs": [
    {
     "name": "stdout",
     "output_type": "stream",
     "text": [
      "best model is : 0.852174 using {'max_iter': 100, 'tol': 0.01}\n"
     ]
    },
    {
     "name": "stderr",
     "output_type": "stream",
     "text": [
      "c:\\users\\gudis\\appdata\\local\\programs\\python\\python36\\lib\\site-packages\\sklearn\\linear_model\\logistic.py:433: FutureWarning: Default solver will be changed to 'lbfgs' in 0.22. Specify a solver to silence this warning.\n",
      "  FutureWarning)\n",
      "c:\\users\\gudis\\appdata\\local\\programs\\python\\python36\\lib\\site-packages\\sklearn\\linear_model\\logistic.py:433: FutureWarning: Default solver will be changed to 'lbfgs' in 0.22. Specify a solver to silence this warning.\n",
      "  FutureWarning)\n",
      "c:\\users\\gudis\\appdata\\local\\programs\\python\\python36\\lib\\site-packages\\sklearn\\linear_model\\logistic.py:433: FutureWarning: Default solver will be changed to 'lbfgs' in 0.22. Specify a solver to silence this warning.\n",
      "  FutureWarning)\n",
      "c:\\users\\gudis\\appdata\\local\\programs\\python\\python36\\lib\\site-packages\\sklearn\\linear_model\\logistic.py:433: FutureWarning: Default solver will be changed to 'lbfgs' in 0.22. Specify a solver to silence this warning.\n",
      "  FutureWarning)\n",
      "c:\\users\\gudis\\appdata\\local\\programs\\python\\python36\\lib\\site-packages\\sklearn\\linear_model\\logistic.py:433: FutureWarning: Default solver will be changed to 'lbfgs' in 0.22. Specify a solver to silence this warning.\n",
      "  FutureWarning)\n",
      "c:\\users\\gudis\\appdata\\local\\programs\\python\\python36\\lib\\site-packages\\sklearn\\linear_model\\logistic.py:433: FutureWarning: Default solver will be changed to 'lbfgs' in 0.22. Specify a solver to silence this warning.\n",
      "  FutureWarning)\n",
      "c:\\users\\gudis\\appdata\\local\\programs\\python\\python36\\lib\\site-packages\\sklearn\\linear_model\\logistic.py:433: FutureWarning: Default solver will be changed to 'lbfgs' in 0.22. Specify a solver to silence this warning.\n",
      "  FutureWarning)\n",
      "c:\\users\\gudis\\appdata\\local\\programs\\python\\python36\\lib\\site-packages\\sklearn\\linear_model\\logistic.py:433: FutureWarning: Default solver will be changed to 'lbfgs' in 0.22. Specify a solver to silence this warning.\n",
      "  FutureWarning)\n",
      "c:\\users\\gudis\\appdata\\local\\programs\\python\\python36\\lib\\site-packages\\sklearn\\linear_model\\logistic.py:433: FutureWarning: Default solver will be changed to 'lbfgs' in 0.22. Specify a solver to silence this warning.\n",
      "  FutureWarning)\n",
      "c:\\users\\gudis\\appdata\\local\\programs\\python\\python36\\lib\\site-packages\\sklearn\\linear_model\\logistic.py:433: FutureWarning: Default solver will be changed to 'lbfgs' in 0.22. Specify a solver to silence this warning.\n",
      "  FutureWarning)\n",
      "c:\\users\\gudis\\appdata\\local\\programs\\python\\python36\\lib\\site-packages\\sklearn\\linear_model\\logistic.py:433: FutureWarning: Default solver will be changed to 'lbfgs' in 0.22. Specify a solver to silence this warning.\n",
      "  FutureWarning)\n",
      "c:\\users\\gudis\\appdata\\local\\programs\\python\\python36\\lib\\site-packages\\sklearn\\linear_model\\logistic.py:433: FutureWarning: Default solver will be changed to 'lbfgs' in 0.22. Specify a solver to silence this warning.\n",
      "  FutureWarning)\n",
      "c:\\users\\gudis\\appdata\\local\\programs\\python\\python36\\lib\\site-packages\\sklearn\\linear_model\\logistic.py:433: FutureWarning: Default solver will be changed to 'lbfgs' in 0.22. Specify a solver to silence this warning.\n",
      "  FutureWarning)\n",
      "c:\\users\\gudis\\appdata\\local\\programs\\python\\python36\\lib\\site-packages\\sklearn\\linear_model\\logistic.py:433: FutureWarning: Default solver will be changed to 'lbfgs' in 0.22. Specify a solver to silence this warning.\n",
      "  FutureWarning)\n",
      "c:\\users\\gudis\\appdata\\local\\programs\\python\\python36\\lib\\site-packages\\sklearn\\linear_model\\logistic.py:433: FutureWarning: Default solver will be changed to 'lbfgs' in 0.22. Specify a solver to silence this warning.\n",
      "  FutureWarning)\n",
      "c:\\users\\gudis\\appdata\\local\\programs\\python\\python36\\lib\\site-packages\\sklearn\\linear_model\\logistic.py:433: FutureWarning: Default solver will be changed to 'lbfgs' in 0.22. Specify a solver to silence this warning.\n",
      "  FutureWarning)\n",
      "c:\\users\\gudis\\appdata\\local\\programs\\python\\python36\\lib\\site-packages\\sklearn\\linear_model\\logistic.py:433: FutureWarning: Default solver will be changed to 'lbfgs' in 0.22. Specify a solver to silence this warning.\n",
      "  FutureWarning)\n",
      "c:\\users\\gudis\\appdata\\local\\programs\\python\\python36\\lib\\site-packages\\sklearn\\linear_model\\logistic.py:433: FutureWarning: Default solver will be changed to 'lbfgs' in 0.22. Specify a solver to silence this warning.\n",
      "  FutureWarning)\n",
      "c:\\users\\gudis\\appdata\\local\\programs\\python\\python36\\lib\\site-packages\\sklearn\\linear_model\\logistic.py:433: FutureWarning: Default solver will be changed to 'lbfgs' in 0.22. Specify a solver to silence this warning.\n",
      "  FutureWarning)\n",
      "c:\\users\\gudis\\appdata\\local\\programs\\python\\python36\\lib\\site-packages\\sklearn\\linear_model\\logistic.py:433: FutureWarning: Default solver will be changed to 'lbfgs' in 0.22. Specify a solver to silence this warning.\n",
      "  FutureWarning)\n",
      "c:\\users\\gudis\\appdata\\local\\programs\\python\\python36\\lib\\site-packages\\sklearn\\linear_model\\logistic.py:433: FutureWarning: Default solver will be changed to 'lbfgs' in 0.22. Specify a solver to silence this warning.\n",
      "  FutureWarning)\n",
      "c:\\users\\gudis\\appdata\\local\\programs\\python\\python36\\lib\\site-packages\\sklearn\\linear_model\\logistic.py:433: FutureWarning: Default solver will be changed to 'lbfgs' in 0.22. Specify a solver to silence this warning.\n",
      "  FutureWarning)\n",
      "c:\\users\\gudis\\appdata\\local\\programs\\python\\python36\\lib\\site-packages\\sklearn\\linear_model\\logistic.py:433: FutureWarning: Default solver will be changed to 'lbfgs' in 0.22. Specify a solver to silence this warning.\n",
      "  FutureWarning)\n",
      "c:\\users\\gudis\\appdata\\local\\programs\\python\\python36\\lib\\site-packages\\sklearn\\linear_model\\logistic.py:433: FutureWarning: Default solver will be changed to 'lbfgs' in 0.22. Specify a solver to silence this warning.\n",
      "  FutureWarning)\n",
      "c:\\users\\gudis\\appdata\\local\\programs\\python\\python36\\lib\\site-packages\\sklearn\\linear_model\\logistic.py:433: FutureWarning: Default solver will be changed to 'lbfgs' in 0.22. Specify a solver to silence this warning.\n",
      "  FutureWarning)\n",
      "c:\\users\\gudis\\appdata\\local\\programs\\python\\python36\\lib\\site-packages\\sklearn\\linear_model\\logistic.py:433: FutureWarning: Default solver will be changed to 'lbfgs' in 0.22. Specify a solver to silence this warning.\n",
      "  FutureWarning)\n",
      "c:\\users\\gudis\\appdata\\local\\programs\\python\\python36\\lib\\site-packages\\sklearn\\linear_model\\logistic.py:433: FutureWarning: Default solver will be changed to 'lbfgs' in 0.22. Specify a solver to silence this warning.\n",
      "  FutureWarning)\n",
      "c:\\users\\gudis\\appdata\\local\\programs\\python\\python36\\lib\\site-packages\\sklearn\\linear_model\\logistic.py:433: FutureWarning: Default solver will be changed to 'lbfgs' in 0.22. Specify a solver to silence this warning.\n",
      "  FutureWarning)\n",
      "c:\\users\\gudis\\appdata\\local\\programs\\python\\python36\\lib\\site-packages\\sklearn\\linear_model\\logistic.py:433: FutureWarning: Default solver will be changed to 'lbfgs' in 0.22. Specify a solver to silence this warning.\n",
      "  FutureWarning)\n",
      "c:\\users\\gudis\\appdata\\local\\programs\\python\\python36\\lib\\site-packages\\sklearn\\linear_model\\logistic.py:433: FutureWarning: Default solver will be changed to 'lbfgs' in 0.22. Specify a solver to silence this warning.\n",
      "  FutureWarning)\n",
      "c:\\users\\gudis\\appdata\\local\\programs\\python\\python36\\lib\\site-packages\\sklearn\\linear_model\\logistic.py:433: FutureWarning: Default solver will be changed to 'lbfgs' in 0.22. Specify a solver to silence this warning.\n",
      "  FutureWarning)\n",
      "c:\\users\\gudis\\appdata\\local\\programs\\python\\python36\\lib\\site-packages\\sklearn\\linear_model\\logistic.py:433: FutureWarning: Default solver will be changed to 'lbfgs' in 0.22. Specify a solver to silence this warning.\n",
      "  FutureWarning)\n",
      "c:\\users\\gudis\\appdata\\local\\programs\\python\\python36\\lib\\site-packages\\sklearn\\linear_model\\logistic.py:433: FutureWarning: Default solver will be changed to 'lbfgs' in 0.22. Specify a solver to silence this warning.\n",
      "  FutureWarning)\n",
      "c:\\users\\gudis\\appdata\\local\\programs\\python\\python36\\lib\\site-packages\\sklearn\\linear_model\\logistic.py:433: FutureWarning: Default solver will be changed to 'lbfgs' in 0.22. Specify a solver to silence this warning.\n",
      "  FutureWarning)\n",
      "c:\\users\\gudis\\appdata\\local\\programs\\python\\python36\\lib\\site-packages\\sklearn\\linear_model\\logistic.py:433: FutureWarning: Default solver will be changed to 'lbfgs' in 0.22. Specify a solver to silence this warning.\n",
      "  FutureWarning)\n",
      "c:\\users\\gudis\\appdata\\local\\programs\\python\\python36\\lib\\site-packages\\sklearn\\linear_model\\logistic.py:433: FutureWarning: Default solver will be changed to 'lbfgs' in 0.22. Specify a solver to silence this warning.\n",
      "  FutureWarning)\n",
      "c:\\users\\gudis\\appdata\\local\\programs\\python\\python36\\lib\\site-packages\\sklearn\\linear_model\\logistic.py:433: FutureWarning: Default solver will be changed to 'lbfgs' in 0.22. Specify a solver to silence this warning.\n",
      "  FutureWarning)\n",
      "c:\\users\\gudis\\appdata\\local\\programs\\python\\python36\\lib\\site-packages\\sklearn\\linear_model\\logistic.py:433: FutureWarning: Default solver will be changed to 'lbfgs' in 0.22. Specify a solver to silence this warning.\n",
      "  FutureWarning)\n",
      "c:\\users\\gudis\\appdata\\local\\programs\\python\\python36\\lib\\site-packages\\sklearn\\linear_model\\logistic.py:433: FutureWarning: Default solver will be changed to 'lbfgs' in 0.22. Specify a solver to silence this warning.\n",
      "  FutureWarning)\n",
      "c:\\users\\gudis\\appdata\\local\\programs\\python\\python36\\lib\\site-packages\\sklearn\\linear_model\\logistic.py:433: FutureWarning: Default solver will be changed to 'lbfgs' in 0.22. Specify a solver to silence this warning.\n",
      "  FutureWarning)\n",
      "c:\\users\\gudis\\appdata\\local\\programs\\python\\python36\\lib\\site-packages\\sklearn\\linear_model\\logistic.py:433: FutureWarning: Default solver will be changed to 'lbfgs' in 0.22. Specify a solver to silence this warning.\n",
      "  FutureWarning)\n",
      "c:\\users\\gudis\\appdata\\local\\programs\\python\\python36\\lib\\site-packages\\sklearn\\linear_model\\logistic.py:433: FutureWarning: Default solver will be changed to 'lbfgs' in 0.22. Specify a solver to silence this warning.\n",
      "  FutureWarning)\n",
      "c:\\users\\gudis\\appdata\\local\\programs\\python\\python36\\lib\\site-packages\\sklearn\\linear_model\\logistic.py:433: FutureWarning: Default solver will be changed to 'lbfgs' in 0.22. Specify a solver to silence this warning.\n",
      "  FutureWarning)\n",
      "c:\\users\\gudis\\appdata\\local\\programs\\python\\python36\\lib\\site-packages\\sklearn\\linear_model\\logistic.py:433: FutureWarning: Default solver will be changed to 'lbfgs' in 0.22. Specify a solver to silence this warning.\n",
      "  FutureWarning)\n",
      "c:\\users\\gudis\\appdata\\local\\programs\\python\\python36\\lib\\site-packages\\sklearn\\linear_model\\logistic.py:433: FutureWarning: Default solver will be changed to 'lbfgs' in 0.22. Specify a solver to silence this warning.\n",
      "  FutureWarning)\n",
      "c:\\users\\gudis\\appdata\\local\\programs\\python\\python36\\lib\\site-packages\\sklearn\\linear_model\\logistic.py:433: FutureWarning: Default solver will be changed to 'lbfgs' in 0.22. Specify a solver to silence this warning.\n",
      "  FutureWarning)\n"
     ]
    }
   ],
   "source": [
    "#Instantiate the grid searchCV with required parameters\n",
    "grid_model = GridSearchCV(estimator = logistic,param_grid=param_grid,cv=5)\n",
    "rescaledX = scale.fit_transform(X)\n",
    "grid_model_result = grid_model.fit(rescaledX,y)\n",
    "# Summarize result\n",
    "best_score,best_params = grid_model.best_score_,grid_model.best_params_\n",
    "print(\"best model is : %f using %s\" %(best_score,best_params))\n"
   ]
  },
  {
   "cell_type": "code",
   "execution_count": null,
   "metadata": {},
   "outputs": [],
   "source": []
  }
 ],
 "metadata": {
  "kernelspec": {
   "display_name": "Python 3",
   "language": "python",
   "name": "python3"
  },
  "language_info": {
   "codemirror_mode": {
    "name": "ipython",
    "version": 3
   },
   "file_extension": ".py",
   "mimetype": "text/x-python",
   "name": "python",
   "nbconvert_exporter": "python",
   "pygments_lexer": "ipython3",
   "version": "3.6.4rc1"
  }
 },
 "nbformat": 4,
 "nbformat_minor": 2
}
