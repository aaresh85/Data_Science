{
 "cells": [
  {
   "cell_type": "markdown",
   "metadata": {},
   "source": [
    "# Linear Regression on KC_Housesales dataset"
   ]
  },
  {
   "cell_type": "markdown",
   "metadata": {},
   "source": [
    "### Jun 20 2019"
   ]
  },
  {
   "cell_type": "code",
   "execution_count": 1,
   "metadata": {},
   "outputs": [],
   "source": [
    "# Loading the dependencies \n",
    "import pandas as pd\n",
    "import numpy as np\n",
    "import math\n",
    "import tensorflow as tf\n",
    "from sklearn import metrics\n",
    "from tensorflow.python.data import Dataset\n",
    "from matplotlib import gridspec\n",
    "from matplotlib import cm\n",
    "from matplotlib import pyplot as plt"
   ]
  },
  {
   "cell_type": "code",
   "execution_count": 2,
   "metadata": {},
   "outputs": [],
   "source": [
    "tf.logging.set_verbosity(tf.logging.ERROR)\n",
    "pd.options.display.max_rows = 10\n",
    "pd.options.display.float_format = '{:,.1f}'.format\n",
    "# Load the dataset \n",
    "kc_data = pd.read_csv(\"E:/Data Scientist/Datasets/kc_house_data.csv\",sep=\",\")\n",
    "#kc_data = kc_data.reindex(np.random.permutation(kc_data.index))\n",
    "# Spliting the dataset into train and test dataset\n",
    "kc_data_train = pd.DataFrame()\n",
    "kc_data_test = pd.DataFrame()\n",
    "kc_data_train = kc_data.head(15000)\n",
    "kc_data_test = kc_data.tail(6613)\n",
    "kc_data_train = kc_data_train.reindex(np.random.permutation(kc_data_train.index))\n",
    "kc_data_test = kc_data_test.reindex(np.random.permutation(kc_data_test.index))"
   ]
  },
  {
   "cell_type": "code",
   "execution_count": 3,
   "metadata": {},
   "outputs": [],
   "source": [
    "# Preprocess the dataset for features and targets\n",
    "def preprocess_features(kc_data_train):\n",
    "    selected_features = kc_data_train[[\"bedrooms\",\"bathrooms\",\"lat\",\"long\",\"sqft_living\"]]\n",
    "    processed_features = selected_features.copy()\n",
    "    return processed_features\n",
    "def preprocess_targets(kc_data_train):\n",
    "    output_targets = pd.DataFrame()\n",
    "    output_targets[\"price\"] = (kc_data_train[\"price\"]/1000.0)\n",
    "    return output_targets"
   ]
  },
  {
   "cell_type": "code",
   "execution_count": 4,
   "metadata": {},
   "outputs": [
    {
     "data": {
      "text/html": [
       "<div>\n",
       "<style scoped>\n",
       "    .dataframe tbody tr th:only-of-type {\n",
       "        vertical-align: middle;\n",
       "    }\n",
       "\n",
       "    .dataframe tbody tr th {\n",
       "        vertical-align: top;\n",
       "    }\n",
       "\n",
       "    .dataframe thead th {\n",
       "        text-align: right;\n",
       "    }\n",
       "</style>\n",
       "<table border=\"1\" class=\"dataframe\">\n",
       "  <thead>\n",
       "    <tr style=\"text-align: right;\">\n",
       "      <th></th>\n",
       "      <th>bedrooms</th>\n",
       "      <th>bathrooms</th>\n",
       "      <th>lat</th>\n",
       "      <th>long</th>\n",
       "      <th>sqft_living</th>\n",
       "    </tr>\n",
       "  </thead>\n",
       "  <tbody>\n",
       "    <tr>\n",
       "      <th>count</th>\n",
       "      <td>10,000.0</td>\n",
       "      <td>10,000.0</td>\n",
       "      <td>10,000.0</td>\n",
       "      <td>10,000.0</td>\n",
       "      <td>10,000.0</td>\n",
       "    </tr>\n",
       "    <tr>\n",
       "      <th>mean</th>\n",
       "      <td>3.3</td>\n",
       "      <td>2.1</td>\n",
       "      <td>47.6</td>\n",
       "      <td>-122.2</td>\n",
       "      <td>2,043.5</td>\n",
       "    </tr>\n",
       "    <tr>\n",
       "      <th>std</th>\n",
       "      <td>0.9</td>\n",
       "      <td>0.8</td>\n",
       "      <td>0.1</td>\n",
       "      <td>0.1</td>\n",
       "      <td>914.4</td>\n",
       "    </tr>\n",
       "    <tr>\n",
       "      <th>min</th>\n",
       "      <td>0.0</td>\n",
       "      <td>0.0</td>\n",
       "      <td>47.2</td>\n",
       "      <td>-122.5</td>\n",
       "      <td>410.0</td>\n",
       "    </tr>\n",
       "    <tr>\n",
       "      <th>25%</th>\n",
       "      <td>3.0</td>\n",
       "      <td>1.5</td>\n",
       "      <td>47.5</td>\n",
       "      <td>-122.3</td>\n",
       "      <td>1,410.0</td>\n",
       "    </tr>\n",
       "    <tr>\n",
       "      <th>50%</th>\n",
       "      <td>3.0</td>\n",
       "      <td>2.0</td>\n",
       "      <td>47.6</td>\n",
       "      <td>-122.2</td>\n",
       "      <td>1,880.0</td>\n",
       "    </tr>\n",
       "    <tr>\n",
       "      <th>75%</th>\n",
       "      <td>4.0</td>\n",
       "      <td>2.5</td>\n",
       "      <td>47.7</td>\n",
       "      <td>-122.1</td>\n",
       "      <td>2,480.0</td>\n",
       "    </tr>\n",
       "    <tr>\n",
       "      <th>max</th>\n",
       "      <td>10.0</td>\n",
       "      <td>8.0</td>\n",
       "      <td>47.8</td>\n",
       "      <td>-121.3</td>\n",
       "      <td>13,540.0</td>\n",
       "    </tr>\n",
       "  </tbody>\n",
       "</table>\n",
       "</div>"
      ],
      "text/plain": [
       "       bedrooms  bathrooms      lat     long  sqft_living\n",
       "count  10,000.0   10,000.0 10,000.0 10,000.0     10,000.0\n",
       "mean        3.3        2.1     47.6   -122.2      2,043.5\n",
       "std         0.9        0.8      0.1      0.1        914.4\n",
       "min         0.0        0.0     47.2   -122.5        410.0\n",
       "25%         3.0        1.5     47.5   -122.3      1,410.0\n",
       "50%         3.0        2.0     47.6   -122.2      1,880.0\n",
       "75%         4.0        2.5     47.7   -122.1      2,480.0\n",
       "max        10.0        8.0     47.8   -121.3     13,540.0"
      ]
     },
     "execution_count": 4,
     "metadata": {},
     "output_type": "execute_result"
    }
   ],
   "source": [
    "# Loading the dataset for the training data with features\n",
    "training_features = preprocess_features(kc_data_train.head(10000))\n",
    "training_features.describe()"
   ]
  },
  {
   "cell_type": "code",
   "execution_count": 5,
   "metadata": {},
   "outputs": [
    {
     "data": {
      "text/html": [
       "<div>\n",
       "<style scoped>\n",
       "    .dataframe tbody tr th:only-of-type {\n",
       "        vertical-align: middle;\n",
       "    }\n",
       "\n",
       "    .dataframe tbody tr th {\n",
       "        vertical-align: top;\n",
       "    }\n",
       "\n",
       "    .dataframe thead th {\n",
       "        text-align: right;\n",
       "    }\n",
       "</style>\n",
       "<table border=\"1\" class=\"dataframe\">\n",
       "  <thead>\n",
       "    <tr style=\"text-align: right;\">\n",
       "      <th></th>\n",
       "      <th>price</th>\n",
       "    </tr>\n",
       "  </thead>\n",
       "  <tbody>\n",
       "    <tr>\n",
       "      <th>count</th>\n",
       "      <td>10,000.0</td>\n",
       "    </tr>\n",
       "    <tr>\n",
       "      <th>mean</th>\n",
       "      <td>530.7</td>\n",
       "    </tr>\n",
       "    <tr>\n",
       "      <th>std</th>\n",
       "      <td>372.1</td>\n",
       "    </tr>\n",
       "    <tr>\n",
       "      <th>min</th>\n",
       "      <td>80.0</td>\n",
       "    </tr>\n",
       "    <tr>\n",
       "      <th>25%</th>\n",
       "      <td>315.0</td>\n",
       "    </tr>\n",
       "    <tr>\n",
       "      <th>50%</th>\n",
       "      <td>446.0</td>\n",
       "    </tr>\n",
       "    <tr>\n",
       "      <th>75%</th>\n",
       "      <td>630.0</td>\n",
       "    </tr>\n",
       "    <tr>\n",
       "      <th>max</th>\n",
       "      <td>7,700.0</td>\n",
       "    </tr>\n",
       "  </tbody>\n",
       "</table>\n",
       "</div>"
      ],
      "text/plain": [
       "         price\n",
       "count 10,000.0\n",
       "mean     530.7\n",
       "std      372.1\n",
       "min       80.0\n",
       "25%      315.0\n",
       "50%      446.0\n",
       "75%      630.0\n",
       "max    7,700.0"
      ]
     },
     "execution_count": 5,
     "metadata": {},
     "output_type": "execute_result"
    }
   ],
   "source": [
    "# Loading the dataset for the training dataset with targets\n",
    "training_targets = preprocess_targets(kc_data_train.head(10000))\n",
    "training_targets.describe()"
   ]
  },
  {
   "cell_type": "code",
   "execution_count": 6,
   "metadata": {},
   "outputs": [
    {
     "data": {
      "text/html": [
       "<div>\n",
       "<style scoped>\n",
       "    .dataframe tbody tr th:only-of-type {\n",
       "        vertical-align: middle;\n",
       "    }\n",
       "\n",
       "    .dataframe tbody tr th {\n",
       "        vertical-align: top;\n",
       "    }\n",
       "\n",
       "    .dataframe thead th {\n",
       "        text-align: right;\n",
       "    }\n",
       "</style>\n",
       "<table border=\"1\" class=\"dataframe\">\n",
       "  <thead>\n",
       "    <tr style=\"text-align: right;\">\n",
       "      <th></th>\n",
       "      <th>bedrooms</th>\n",
       "      <th>bathrooms</th>\n",
       "      <th>lat</th>\n",
       "      <th>long</th>\n",
       "      <th>sqft_living</th>\n",
       "    </tr>\n",
       "  </thead>\n",
       "  <tbody>\n",
       "    <tr>\n",
       "      <th>count</th>\n",
       "      <td>5,000.0</td>\n",
       "      <td>5,000.0</td>\n",
       "      <td>5,000.0</td>\n",
       "      <td>5,000.0</td>\n",
       "      <td>5,000.0</td>\n",
       "    </tr>\n",
       "    <tr>\n",
       "      <th>mean</th>\n",
       "      <td>3.4</td>\n",
       "      <td>2.1</td>\n",
       "      <td>47.6</td>\n",
       "      <td>-122.2</td>\n",
       "      <td>2,063.9</td>\n",
       "    </tr>\n",
       "    <tr>\n",
       "      <th>std</th>\n",
       "      <td>0.9</td>\n",
       "      <td>0.8</td>\n",
       "      <td>0.1</td>\n",
       "      <td>0.1</td>\n",
       "      <td>889.0</td>\n",
       "    </tr>\n",
       "    <tr>\n",
       "      <th>min</th>\n",
       "      <td>0.0</td>\n",
       "      <td>0.0</td>\n",
       "      <td>47.2</td>\n",
       "      <td>-122.5</td>\n",
       "      <td>380.0</td>\n",
       "    </tr>\n",
       "    <tr>\n",
       "      <th>25%</th>\n",
       "      <td>3.0</td>\n",
       "      <td>1.5</td>\n",
       "      <td>47.5</td>\n",
       "      <td>-122.3</td>\n",
       "      <td>1,410.0</td>\n",
       "    </tr>\n",
       "    <tr>\n",
       "      <th>50%</th>\n",
       "      <td>3.0</td>\n",
       "      <td>2.0</td>\n",
       "      <td>47.6</td>\n",
       "      <td>-122.2</td>\n",
       "      <td>1,920.0</td>\n",
       "    </tr>\n",
       "    <tr>\n",
       "      <th>75%</th>\n",
       "      <td>4.0</td>\n",
       "      <td>2.5</td>\n",
       "      <td>47.7</td>\n",
       "      <td>-122.1</td>\n",
       "      <td>2,540.0</td>\n",
       "    </tr>\n",
       "    <tr>\n",
       "      <th>max</th>\n",
       "      <td>11.0</td>\n",
       "      <td>6.0</td>\n",
       "      <td>47.8</td>\n",
       "      <td>-121.3</td>\n",
       "      <td>7,620.0</td>\n",
       "    </tr>\n",
       "  </tbody>\n",
       "</table>\n",
       "</div>"
      ],
      "text/plain": [
       "       bedrooms  bathrooms     lat    long  sqft_living\n",
       "count   5,000.0    5,000.0 5,000.0 5,000.0      5,000.0\n",
       "mean        3.4        2.1    47.6  -122.2      2,063.9\n",
       "std         0.9        0.8     0.1     0.1        889.0\n",
       "min         0.0        0.0    47.2  -122.5        380.0\n",
       "25%         3.0        1.5    47.5  -122.3      1,410.0\n",
       "50%         3.0        2.0    47.6  -122.2      1,920.0\n",
       "75%         4.0        2.5    47.7  -122.1      2,540.0\n",
       "max        11.0        6.0    47.8  -121.3      7,620.0"
      ]
     },
     "execution_count": 6,
     "metadata": {},
     "output_type": "execute_result"
    }
   ],
   "source": [
    "# Loading the validation set from the dataset\n",
    "validation_features = preprocess_features(kc_data_train.tail(5000))\n",
    "validation_features.describe()"
   ]
  },
  {
   "cell_type": "code",
   "execution_count": 7,
   "metadata": {},
   "outputs": [
    {
     "data": {
      "text/html": [
       "<div>\n",
       "<style scoped>\n",
       "    .dataframe tbody tr th:only-of-type {\n",
       "        vertical-align: middle;\n",
       "    }\n",
       "\n",
       "    .dataframe tbody tr th {\n",
       "        vertical-align: top;\n",
       "    }\n",
       "\n",
       "    .dataframe thead th {\n",
       "        text-align: right;\n",
       "    }\n",
       "</style>\n",
       "<table border=\"1\" class=\"dataframe\">\n",
       "  <thead>\n",
       "    <tr style=\"text-align: right;\">\n",
       "      <th></th>\n",
       "      <th>price</th>\n",
       "    </tr>\n",
       "  </thead>\n",
       "  <tbody>\n",
       "    <tr>\n",
       "      <th>count</th>\n",
       "      <td>5,000.0</td>\n",
       "    </tr>\n",
       "    <tr>\n",
       "      <th>mean</th>\n",
       "      <td>535.8</td>\n",
       "    </tr>\n",
       "    <tr>\n",
       "      <th>std</th>\n",
       "      <td>355.1</td>\n",
       "    </tr>\n",
       "    <tr>\n",
       "      <th>min</th>\n",
       "      <td>75.0</td>\n",
       "    </tr>\n",
       "    <tr>\n",
       "      <th>25%</th>\n",
       "      <td>315.0</td>\n",
       "    </tr>\n",
       "    <tr>\n",
       "      <th>50%</th>\n",
       "      <td>448.8</td>\n",
       "    </tr>\n",
       "    <tr>\n",
       "      <th>75%</th>\n",
       "      <td>649.0</td>\n",
       "    </tr>\n",
       "    <tr>\n",
       "      <th>max</th>\n",
       "      <td>5,300.0</td>\n",
       "    </tr>\n",
       "  </tbody>\n",
       "</table>\n",
       "</div>"
      ],
      "text/plain": [
       "        price\n",
       "count 5,000.0\n",
       "mean    535.8\n",
       "std     355.1\n",
       "min      75.0\n",
       "25%     315.0\n",
       "50%     448.8\n",
       "75%     649.0\n",
       "max   5,300.0"
      ]
     },
     "execution_count": 7,
     "metadata": {},
     "output_type": "execute_result"
    }
   ],
   "source": [
    "validation_targets = preprocess_targets(kc_data_train.tail(5000))\n",
    "validation_targets.describe()"
   ]
  },
  {
   "cell_type": "code",
   "execution_count": 8,
   "metadata": {},
   "outputs": [
    {
     "data": {
      "image/png": "[encoded data removed]",
      "text/plain": [
       "<matplotlib.figure.Figure at 0x17eeb14b2e8>"
      ]
     },
     "metadata": {
      "needs_background": "light"
     },
     "output_type": "display_data"
    }
   ],
   "source": [
    "plt.figure(figsize=(13,8))\n",
    "ax = plt.subplot(1,2,1)\n",
    "ax.set_title(\"validation data\")\n",
    "ax.set_autoscaley_on(False)\n",
    "ax.set_ylim([47,48])\n",
    "ax.set_autoscalex_on(False)\n",
    "ax.set_xlim([-123,-121])\n",
    "plt.scatter(validation_features[\"long\"],validation_features[\"lat\"],cmap =\"coolwarm\",c=validation_targets[\"price\"]/validation_targets[\"price\"].max())\n",
    "\n",
    "ax = plt.subplot(1,2,2)\n",
    "ax.set_title(\"training data\")\n",
    "ax.set_autoscaley_on(False)\n",
    "ax.set_ylim([47,48])\n",
    "ax.set_autoscalex_on(False)\n",
    "ax.set_xlim([-123,-121])\n",
    "plt.scatter(training_features[\"long\"],training_features[\"lat\"],cmap=\"coolwarm\", c=training_targets[\"price\"]/training_targets[\"price\"].max())\n",
    "_=plt.plot()"
   ]
  },
  {
   "cell_type": "markdown",
   "metadata": {},
   "source": [
    " From the plot which seen from above most high price house sales happens in the area of (47.2,-122) and (47.6,-121). From the plot we see the area is too dark to represent in the following co-ordinates."
   ]
  },
  {
   "cell_type": "markdown",
   "metadata": {},
   "source": [
    "Now we load the features into the tensor flow model by developing the input function where we give the features,targets to the tensors also batch-size and epochs where we dealing the gradient descent"
   ]
  },
  {
   "cell_type": "code",
   "execution_count": 9,
   "metadata": {},
   "outputs": [],
   "source": [
    "# Defining the input function\n",
    "def input_func(features,targets,batch_size=1,shuffle=True, num_epochs=None):\n",
    "    # convert the data into dict using key and value pairs\n",
    "    features = {key:np.array(value) for key,value in dict(features).items()}\n",
    "    # Convert the data into dataset using the tensors\n",
    "    ds = Dataset.from_tensor_slices((features,targets))\n",
    "    ds = ds.batch(batch_size).repeat(num_epochs)\n",
    "    \n",
    "    # shuffle the given dataset\n",
    "    if shuffle:\n",
    "        ds = ds.shuffle(10000)\n",
    "    # get the next batch of the dataset\n",
    "    features,labels = ds.make_one_shot_iterator().get_next()\n",
    "    return features,labels"
   ]
  },
  {
   "cell_type": "code",
   "execution_count": 10,
   "metadata": {},
   "outputs": [],
   "source": [
    "def construct_feature_column(input_features):\n",
    "    return set([tf.feature_column.numeric_column(my_feature)\n",
    "               for my_feature in input_features])"
   ]
  },
  {
   "cell_type": "code",
   "execution_count": 11,
   "metadata": {},
   "outputs": [],
   "source": [
    "def train_model(training_features,\n",
    "                training_targets,\n",
    "                validation_features,\n",
    "                validation_targets,\n",
    "                batch_size,\n",
    "                learning_rate,\n",
    "                steps):\n",
    "    periods = 10\n",
    "    steps_per_period = steps/periods\n",
    "    # creating a linear regression object\n",
    "    linear_optimizer = tf.train.GradientDescentOptimizer(learning_rate=learning_rate)\n",
    "    linear_optimizer = tf.contrib.estimator.clip_gradients_by_norm(linear_optimizer,5.0)\n",
    "    linear_regressor = tf.estimator.LinearRegressor(feature_columns=construct_feature_column(training_features),optimizer =linear_optimizer )\n",
    "    # creating input functions \n",
    "    training_input_fn = lambda: input_func(training_features,training_targets[\"price\"],batch_size = batch_size)\n",
    "    predict_training_input = lambda: input_func(training_features,training_targets[\"price\"],num_epochs=1,shuffle=False)\n",
    "    predict_validation_input = lambda: input_func(validation_features,validation_targets[\"price\"],num_epochs=1,shuffle=False)\n",
    "    \n",
    "    # Train the model now\n",
    "    print(\"Training the data with linear regressor ------->\")\n",
    "    print(\"Root Mean Squared error(on training data) ------>\")\n",
    "    training_rmse = []\n",
    "    validation_rmse=[]\n",
    "    for period in range(0,periods):\n",
    "        linear_regressor.train(\n",
    "        input_fn = training_input_fn,\n",
    "        steps = steps_per_period,)\n",
    "        # predicting from the training and validation data\n",
    "        training_predictions = linear_regressor.predict(input_fn= predict_training_input)\n",
    "        training_predictions = np.array([item['predictions'][0] for item in training_predictions])\n",
    "        validation_predictions = linear_regressor.predict(input_fn = predict_validation_input)\n",
    "        validation_predictions = np.array([item['predictions'][0] for item in validation_predictions])\n",
    "        # Finding the training and validation loss\n",
    "        training_root_mean_squared_error = math.sqrt(metrics.mean_squared_error(training_predictions,training_targets))\n",
    "        validation_root_mean_squared_error = math.sqrt(metrics.mean_squared_error(validation_predictions,validation_targets))\n",
    "        # printing the loss\n",
    "        print(\"period %0.2d : %0.2f\" %(period,training_root_mean_squared_error))\n",
    "        # add the loss metrics from this period to our list\n",
    "        training_rmse.append(training_root_mean_squared_error)\n",
    "        validation_rmse.append(validation_root_mean_squared_error)\n",
    "    print(\"Model training finished\")\n",
    "    # plot the output of the model for understanding\n",
    "    plt.ylabel(\"RMSE\")\n",
    "    plt.xlabel(\"Periods\")\n",
    "    plt.title(\"Root Mean Squared Error Vs periods\")\n",
    "    plt.plot(training_rmse,label = \"training\")\n",
    "    plt.plot(validation_rmse,label=\" validation\")\n",
    "    plt.legend()\n",
    "    \n",
    "    return linear_regressor"
   ]
  },
  {
   "cell_type": "code",
   "execution_count": 71,
   "metadata": {},
   "outputs": [
    {
     "name": "stdout",
     "output_type": "stream",
     "text": [
      "Training the data with linear regressor ------->\n",
      "Root Mean Squared error(on training data) ------>\n",
      "period 00 : 547.80\n",
      "period 01 : 453.02\n",
      "period 02 : 368.11\n",
      "period 03 : 301.51\n",
      "period 04 : 270.77\n",
      "period 05 : 267.35\n",
      "period 06 : 265.81\n",
      "period 07 : 265.64\n",
      "period 08 : 265.57\n",
      "period 09 : 265.57\n",
      "Model training finished\n"
     ]
    },
    {
     "data": {
      "image/png": "[encoded data removed]",
      "text/plain": [
       "<matplotlib.figure.Figure at 0x17ef50f8080>"
      ]
     },
     "metadata": {
      "needs_background": "light"
     },
     "output_type": "display_data"
    }
   ],
   "source": [
    "# Now check with your parameters for the linear Regressor\n",
    "linear_regressor= train_model(learning_rate=0.001,\n",
    "                              steps = 100,\n",
    "                              batch_size=20,\n",
    "                              training_features= training_features,\n",
    "                              training_targets= training_targets,\n",
    "                              validation_features=validation_features,\n",
    "                              validation_targets= validation_targets)"
   ]
  },
  {
   "cell_type": "code",
   "execution_count": 35,
   "metadata": {},
   "outputs": [
    {
     "data": {
      "text/html": [
       "<div>\n",
       "<style scoped>\n",
       "    .dataframe tbody tr th:only-of-type {\n",
       "        vertical-align: middle;\n",
       "    }\n",
       "\n",
       "    .dataframe tbody tr th {\n",
       "        vertical-align: top;\n",
       "    }\n",
       "\n",
       "    .dataframe thead th {\n",
       "        text-align: right;\n",
       "    }\n",
       "</style>\n",
       "<table border=\"1\" class=\"dataframe\">\n",
       "  <thead>\n",
       "    <tr style=\"text-align: right;\">\n",
       "      <th></th>\n",
       "      <th>bedrooms</th>\n",
       "      <th>bathrooms</th>\n",
       "      <th>lat</th>\n",
       "      <th>long</th>\n",
       "      <th>sqft_living</th>\n",
       "    </tr>\n",
       "  </thead>\n",
       "  <tbody>\n",
       "    <tr>\n",
       "      <th>count</th>\n",
       "      <td>6,613.0</td>\n",
       "      <td>6,613.0</td>\n",
       "      <td>6,613.0</td>\n",
       "      <td>6,613.0</td>\n",
       "      <td>6,613.0</td>\n",
       "    </tr>\n",
       "    <tr>\n",
       "      <th>mean</th>\n",
       "      <td>3.4</td>\n",
       "      <td>2.2</td>\n",
       "      <td>47.6</td>\n",
       "      <td>-122.2</td>\n",
       "      <td>2,147.1</td>\n",
       "    </tr>\n",
       "    <tr>\n",
       "      <th>std</th>\n",
       "      <td>1.0</td>\n",
       "      <td>0.8</td>\n",
       "      <td>0.1</td>\n",
       "      <td>0.1</td>\n",
       "      <td>942.6</td>\n",
       "    </tr>\n",
       "    <tr>\n",
       "      <th>min</th>\n",
       "      <td>0.0</td>\n",
       "      <td>0.0</td>\n",
       "      <td>47.2</td>\n",
       "      <td>-122.5</td>\n",
       "      <td>290.0</td>\n",
       "    </tr>\n",
       "    <tr>\n",
       "      <th>25%</th>\n",
       "      <td>3.0</td>\n",
       "      <td>1.8</td>\n",
       "      <td>47.5</td>\n",
       "      <td>-122.3</td>\n",
       "      <td>1,450.0</td>\n",
       "    </tr>\n",
       "    <tr>\n",
       "      <th>50%</th>\n",
       "      <td>3.0</td>\n",
       "      <td>2.5</td>\n",
       "      <td>47.6</td>\n",
       "      <td>-122.2</td>\n",
       "      <td>1,960.0</td>\n",
       "    </tr>\n",
       "    <tr>\n",
       "      <th>75%</th>\n",
       "      <td>4.0</td>\n",
       "      <td>2.5</td>\n",
       "      <td>47.7</td>\n",
       "      <td>-122.1</td>\n",
       "      <td>2,670.0</td>\n",
       "    </tr>\n",
       "    <tr>\n",
       "      <th>max</th>\n",
       "      <td>33.0</td>\n",
       "      <td>6.5</td>\n",
       "      <td>47.8</td>\n",
       "      <td>-121.4</td>\n",
       "      <td>8,020.0</td>\n",
       "    </tr>\n",
       "  </tbody>\n",
       "</table>\n",
       "</div>"
      ],
      "text/plain": [
       "       bedrooms  bathrooms     lat    long  sqft_living\n",
       "count   6,613.0    6,613.0 6,613.0 6,613.0      6,613.0\n",
       "mean        3.4        2.2    47.6  -122.2      2,147.1\n",
       "std         1.0        0.8     0.1     0.1        942.6\n",
       "min         0.0        0.0    47.2  -122.5        290.0\n",
       "25%         3.0        1.8    47.5  -122.3      1,450.0\n",
       "50%         3.0        2.5    47.6  -122.2      1,960.0\n",
       "75%         4.0        2.5    47.7  -122.1      2,670.0\n",
       "max        33.0        6.5    47.8  -121.4      8,020.0"
      ]
     },
     "execution_count": 35,
     "metadata": {},
     "output_type": "execute_result"
    }
   ],
   "source": [
    "# Now will check the model with the test data\n",
    "test_features = preprocess_features(kc_data_test)\n",
    "test_features.describe()"
   ]
  },
  {
   "cell_type": "code",
   "execution_count": 36,
   "metadata": {},
   "outputs": [
    {
     "data": {
      "text/html": [
       "<div>\n",
       "<style scoped>\n",
       "    .dataframe tbody tr th:only-of-type {\n",
       "        vertical-align: middle;\n",
       "    }\n",
       "\n",
       "    .dataframe tbody tr th {\n",
       "        vertical-align: top;\n",
       "    }\n",
       "\n",
       "    .dataframe thead th {\n",
       "        text-align: right;\n",
       "    }\n",
       "</style>\n",
       "<table border=\"1\" class=\"dataframe\">\n",
       "  <thead>\n",
       "    <tr style=\"text-align: right;\">\n",
       "      <th></th>\n",
       "      <th>price</th>\n",
       "    </tr>\n",
       "  </thead>\n",
       "  <tbody>\n",
       "    <tr>\n",
       "      <th>count</th>\n",
       "      <td>6,613.0</td>\n",
       "    </tr>\n",
       "    <tr>\n",
       "      <th>mean</th>\n",
       "      <td>557.5</td>\n",
       "    </tr>\n",
       "    <tr>\n",
       "      <th>std</th>\n",
       "      <td>368.0</td>\n",
       "    </tr>\n",
       "    <tr>\n",
       "      <th>min</th>\n",
       "      <td>78.0</td>\n",
       "    </tr>\n",
       "    <tr>\n",
       "      <th>25%</th>\n",
       "      <td>335.0</td>\n",
       "    </tr>\n",
       "    <tr>\n",
       "      <th>50%</th>\n",
       "      <td>464.0</td>\n",
       "    </tr>\n",
       "    <tr>\n",
       "      <th>75%</th>\n",
       "      <td>657.0</td>\n",
       "    </tr>\n",
       "    <tr>\n",
       "      <th>max</th>\n",
       "      <td>3,800.0</td>\n",
       "    </tr>\n",
       "  </tbody>\n",
       "</table>\n",
       "</div>"
      ],
      "text/plain": [
       "        price\n",
       "count 6,613.0\n",
       "mean    557.5\n",
       "std     368.0\n",
       "min      78.0\n",
       "25%     335.0\n",
       "50%     464.0\n",
       "75%     657.0\n",
       "max   3,800.0"
      ]
     },
     "execution_count": 36,
     "metadata": {},
     "output_type": "execute_result"
    }
   ],
   "source": [
    "test_targets = preprocess_targets(kc_data_test)\n",
    "test_targets.describe()"
   ]
  },
  {
   "cell_type": "code",
   "execution_count": 72,
   "metadata": {},
   "outputs": [
    {
     "name": "stdout",
     "output_type": "stream",
     "text": [
      "Final RMSE (on test data): 262.99\n"
     ]
    }
   ],
   "source": [
    "# define the input function\n",
    "predict_test_input = lambda: input_func(test_features,test_targets[\"price\"],num_epochs=1,shuffle=False)\n",
    "test_predictions = linear_regressor.predict(input_fn = predict_test_input)\n",
    "test_predictions = np.array([item['predictions'][0] for item in test_predictions])\n",
    "test_mean_squared_error = math.sqrt(metrics.mean_squared_error(test_predictions,test_targets))\n",
    "print(\"Final RMSE (on test data): %0.2f\" % test_mean_squared_error)"
   ]
  },
  {
   "cell_type": "code",
   "execution_count": 38,
   "metadata": {},
   "outputs": [
    {
     "name": "stdout",
     "output_type": "stream",
     "text": [
      "7625000.0\n"
     ]
    }
   ],
   "source": [
    "kc_data_range = (kc_data['price'].max())-(kc_data['price'].min())\n",
    "print(kc_data_range)"
   ]
  },
  {
   "cell_type": "code",
   "execution_count": 74,
   "metadata": {},
   "outputs": [
    {
     "name": "stdout",
     "output_type": "stream",
     "text": [
      "accuracy of the model: 0.4892229227123399\n"
     ]
    }
   ],
   "source": [
    "print(\"accuracy of the model:\",metrics.r2_score(test_targets,test_predictions))"
   ]
  },
  {
   "cell_type": "code",
   "execution_count": 75,
   "metadata": {},
   "outputs": [],
   "source": [
    "test_output_df = pd.DataFrame()"
   ]
  },
  {
   "cell_type": "code",
   "execution_count": 76,
   "metadata": {},
   "outputs": [],
   "source": [
    "test_output_df['price_test'] = test_targets['price']"
   ]
  },
  {
   "cell_type": "code",
   "execution_count": 77,
   "metadata": {},
   "outputs": [],
   "source": [
    "test_output_df['price_predict']= test_predictions.tolist()"
   ]
  },
  {
   "cell_type": "code",
   "execution_count": 78,
   "metadata": {},
   "outputs": [
    {
     "data": {
      "text/html": [
       "<div>\n",
       "<style scoped>\n",
       "    .dataframe tbody tr th:only-of-type {\n",
       "        vertical-align: middle;\n",
       "    }\n",
       "\n",
       "    .dataframe tbody tr th {\n",
       "        vertical-align: top;\n",
       "    }\n",
       "\n",
       "    .dataframe thead th {\n",
       "        text-align: right;\n",
       "    }\n",
       "</style>\n",
       "<table border=\"1\" class=\"dataframe\">\n",
       "  <thead>\n",
       "    <tr style=\"text-align: right;\">\n",
       "      <th></th>\n",
       "      <th>price_test</th>\n",
       "      <th>price_predict</th>\n",
       "    </tr>\n",
       "  </thead>\n",
       "  <tbody>\n",
       "    <tr>\n",
       "      <th>20238</th>\n",
       "      <td>749.0</td>\n",
       "      <td>750.9</td>\n",
       "    </tr>\n",
       "    <tr>\n",
       "      <th>20329</th>\n",
       "      <td>309.6</td>\n",
       "      <td>496.2</td>\n",
       "    </tr>\n",
       "    <tr>\n",
       "      <th>19388</th>\n",
       "      <td>465.0</td>\n",
       "      <td>339.8</td>\n",
       "    </tr>\n",
       "    <tr>\n",
       "      <th>18659</th>\n",
       "      <td>618.0</td>\n",
       "      <td>504.2</td>\n",
       "    </tr>\n",
       "    <tr>\n",
       "      <th>21006</th>\n",
       "      <td>415.0</td>\n",
       "      <td>386.2</td>\n",
       "    </tr>\n",
       "  </tbody>\n",
       "</table>\n",
       "</div>"
      ],
      "text/plain": [
       "       price_test  price_predict\n",
       "20238       749.0          750.9\n",
       "20329       309.6          496.2\n",
       "19388       465.0          339.8\n",
       "18659       618.0          504.2\n",
       "21006       415.0          386.2"
      ]
     },
     "execution_count": 78,
     "metadata": {},
     "output_type": "execute_result"
    }
   ],
   "source": [
    "test_output_df.head()"
   ]
  },
  {
   "cell_type": "code",
   "execution_count": 79,
   "metadata": {},
   "outputs": [],
   "source": [
    "test_output_df['erro'] = test_output_df['price_test']-test_output_df['price_predict']"
   ]
  },
  {
   "cell_type": "code",
   "execution_count": 80,
   "metadata": {},
   "outputs": [
    {
     "data": {
      "text/html": [
       "<div>\n",
       "<style scoped>\n",
       "    .dataframe tbody tr th:only-of-type {\n",
       "        vertical-align: middle;\n",
       "    }\n",
       "\n",
       "    .dataframe tbody tr th {\n",
       "        vertical-align: top;\n",
       "    }\n",
       "\n",
       "    .dataframe thead th {\n",
       "        text-align: right;\n",
       "    }\n",
       "</style>\n",
       "<table border=\"1\" class=\"dataframe\">\n",
       "  <thead>\n",
       "    <tr style=\"text-align: right;\">\n",
       "      <th></th>\n",
       "      <th>price_test</th>\n",
       "      <th>price_predict</th>\n",
       "      <th>erro</th>\n",
       "    </tr>\n",
       "  </thead>\n",
       "  <tbody>\n",
       "    <tr>\n",
       "      <th>20238</th>\n",
       "      <td>749.0</td>\n",
       "      <td>750.9</td>\n",
       "      <td>-1.9</td>\n",
       "    </tr>\n",
       "    <tr>\n",
       "      <th>20329</th>\n",
       "      <td>309.6</td>\n",
       "      <td>496.2</td>\n",
       "      <td>-186.6</td>\n",
       "    </tr>\n",
       "    <tr>\n",
       "      <th>19388</th>\n",
       "      <td>465.0</td>\n",
       "      <td>339.8</td>\n",
       "      <td>125.2</td>\n",
       "    </tr>\n",
       "    <tr>\n",
       "      <th>18659</th>\n",
       "      <td>618.0</td>\n",
       "      <td>504.2</td>\n",
       "      <td>113.8</td>\n",
       "    </tr>\n",
       "    <tr>\n",
       "      <th>21006</th>\n",
       "      <td>415.0</td>\n",
       "      <td>386.2</td>\n",
       "      <td>28.8</td>\n",
       "    </tr>\n",
       "  </tbody>\n",
       "</table>\n",
       "</div>"
      ],
      "text/plain": [
       "       price_test  price_predict   erro\n",
       "20238       749.0          750.9   -1.9\n",
       "20329       309.6          496.2 -186.6\n",
       "19388       465.0          339.8  125.2\n",
       "18659       618.0          504.2  113.8\n",
       "21006       415.0          386.2   28.8"
      ]
     },
     "execution_count": 80,
     "metadata": {},
     "output_type": "execute_result"
    }
   ],
   "source": [
    "test_output_df.head()"
   ]
  },
  {
   "cell_type": "code",
   "execution_count": null,
   "metadata": {},
   "outputs": [],
   "source": []
  }
 ],
 "metadata": {
  "kernelspec": {
   "display_name": "Python 3",
   "language": "python",
   "name": "python3"
  },
  "language_info": {
   "codemirror_mode": {
    "name": "ipython",
    "version": 3
   },
   "file_extension": ".py",
   "mimetype": "text/x-python",
   "name": "python",
   "nbconvert_exporter": "python",
   "pygments_lexer": "ipython3",
   "version": "3.6.4rc1"
  }
 },
 "nbformat": 4,
 "nbformat_minor": 2
}
